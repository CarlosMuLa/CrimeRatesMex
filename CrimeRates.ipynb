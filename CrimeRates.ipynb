{
 "cells": [
  {
   "cell_type": "code",
   "execution_count": 5,
   "metadata": {},
   "outputs": [],
   "source": [
    "import pandas as pd\n",
    "import seaborn as sns\n",
    "import matplotlib.pyplot as plt\n",
    "import numpy as np\n"
   ]
  },
  {
   "cell_type": "code",
   "execution_count": 11,
   "metadata": {},
   "outputs": [
    {
     "name": "stdout",
     "output_type": "stream",
     "text": [
      "<class 'pandas.core.frame.DataFrame'>\n",
      "RangeIndex: 84096 entries, 0 to 84095\n",
      "Data columns (total 21 columns):\n",
      " #   Column                    Non-Null Count  Dtype  \n",
      "---  ------                    --------------  -----  \n",
      " 0   Año                       84096 non-null  int64  \n",
      " 1   Clave_Ent                 84096 non-null  int64  \n",
      " 2   Entidad                   84096 non-null  object \n",
      " 3   Bien jurídico afectado    84096 non-null  object \n",
      " 4   Tipo de delito            84096 non-null  object \n",
      " 5   Subtipo de delito         84096 non-null  object \n",
      " 6   Modalidad                 84096 non-null  object \n",
      " 7   Enero                     84096 non-null  int64  \n",
      " 8   Febrero                   84096 non-null  int64  \n",
      " 9   Marzo                     84096 non-null  int64  \n",
      " 10  Abril                     84096 non-null  int64  \n",
      " 11  Mayo                      84096 non-null  int64  \n",
      " 12  Junio                     84096 non-null  int64  \n",
      " 13  Julio                     74752 non-null  float64\n",
      " 14  Agosto                    74752 non-null  float64\n",
      " 15  Septiembre                74752 non-null  float64\n",
      " 16  Octubre                   74752 non-null  float64\n",
      " 17  Noviembre                 74752 non-null  float64\n",
      " 18  Diciembre                 74752 non-null  float64\n",
      " 19  Sexo/Averiguación previa  84096 non-null  object \n",
      " 20  Rango de edad             84096 non-null  object \n",
      "dtypes: float64(6), int64(8), object(7)\n",
      "memory usage: 13.5+ MB\n"
     ]
    }
   ],
   "source": [
    "crimerate_df = pd.read_csv(\"./Data/crimen_nac.csv\", encoding=\"latin1\") #added encoding=\"latin1\" to avoid encoding error of special characters in the file\n",
    "crimerate_df.info()\n"
   ]
  },
  {
   "cell_type": "code",
   "execution_count": 18,
   "metadata": {},
   "outputs": [
    {
     "data": {
      "text/plain": [
       "array(['La libertad y la seguridad sexual', 'El patrimonio', 'La familia',\n",
       "       'Otros bienes jurídicos afectados (del fuero común)',\n",
       "       'La vida y la Integridad corporal', 'Libertad personal',\n",
       "       'La sociedad'], dtype=object)"
      ]
     },
     "execution_count": 18,
     "metadata": {},
     "output_type": "execute_result"
    }
   ],
   "source": [
    "states = crimerate_df['Entidad'].unique()\n",
    "legal_rigths = crimerate_df['Bien jurídico afectado'].unique()\n",
    "legal_rigths"
   ]
  },
  {
   "cell_type": "code",
   "execution_count": 22,
   "metadata": {},
   "outputs": [
    {
     "data": {
      "text/plain": [
       "Año                            0\n",
       "Clave_Ent                      0\n",
       "Entidad                        0\n",
       "Bien jurídico afectado         0\n",
       "Tipo de delito                 0\n",
       "Subtipo de delito              0\n",
       "Modalidad                      0\n",
       "Enero                          0\n",
       "Febrero                        0\n",
       "Marzo                          0\n",
       "Abril                          0\n",
       "Mayo                           0\n",
       "Junio                          0\n",
       "Julio                       9344\n",
       "Agosto                      9344\n",
       "Septiembre                  9344\n",
       "Octubre                     9344\n",
       "Noviembre                   9344\n",
       "Diciembre                   9344\n",
       "Sexo/Averiguación previa       0\n",
       "Rango de edad                  0\n",
       "dtype: int64"
      ]
     },
     "execution_count": 22,
     "metadata": {},
     "output_type": "execute_result"
    }
   ],
   "source": [
    "filas_nulas_col1 = crimerate_df[crimerate_df['Julio'].isnull()]\n",
    "filas_nulas_col1.isnull().sum()\n",
    "#the data from the data set only goes from January 2015 to June 2023, so the data from July 2023 and beyond is not available"
   ]
  },
  {
   "cell_type": "code",
   "execution_count": null,
   "metadata": {},
   "outputs": [],
   "source": []
  }
 ],
 "metadata": {
  "kernelspec": {
   "display_name": "Python 3",
   "language": "python",
   "name": "python3"
  },
  "language_info": {
   "codemirror_mode": {
    "name": "ipython",
    "version": 3
   },
   "file_extension": ".py",
   "mimetype": "text/x-python",
   "name": "python",
   "nbconvert_exporter": "python",
   "pygments_lexer": "ipython3",
   "version": "3.12.2"
  }
 },
 "nbformat": 4,
 "nbformat_minor": 2
}
